{
  "nbformat": 4,
  "nbformat_minor": 0,
  "metadata": {
    "colab": {
      "name": "PR_134_Filtering-Stars_{fixed}.ipynb",
      "provenance": [],
      "collapsed_sections": []
    },
    "kernelspec": {
      "name": "python3",
      "display_name": "Python 3"
    },
    "language_info": {
      "name": "python"
    }
  },
  "cells": [
    {
      "cell_type": "code",
      "metadata": {
        "colab": {
          "base_uri": "https://localhost:8080/"
        },
        "id": "hPFdSx7PEzdU",
        "outputId": "254167d0-3d04-44c0-cda2-b74655d17f4e"
      },
      "source": [
        "rows = []\n",
        "import csv\n",
        "import pandas as pd\n",
        "\n",
        "with open(\"datA_for_PR_132.csv\",\"r\") as f:\n",
        "  csvreader = csv.reader(f)\n",
        "  \n",
        "  for row in csvreader:\n",
        "    rows.append(row)\n",
        "headers = rows[0]\n",
        "stars_data_rows = rows[1:]\n",
        "\n",
        "stars_data_rows[1:3]"
      ],
      "execution_count": 39,
      "outputs": [
        {
          "output_type": "execute_result",
          "data": {
            "text/plain": [
              "[['1', 'Sirius', '8.6', '2.1', '1.71', '196.971799550325'],\n",
              " ['2', 'Canopus', '310', '15.0', '71.0', '0.8161153386021839']]"
            ]
          },
          "metadata": {},
          "execution_count": 39
        }
      ]
    },
    {
      "cell_type": "code",
      "metadata": {
        "id": "KPoJDNMAE3Ua"
      },
      "source": [
        "import plotly.express as px\n",
        "\n",
        "fig = px.scatter(df, x=df[\"Distance\"] , y=df[\"star_gravity\"])\n",
        "fig.show()"
      ],
      "execution_count": null,
      "outputs": []
    },
    {
      "cell_type": "code",
      "metadata": {
        "id": "buvdOjqhGzv7"
      },
      "source": [
        "#stars_data_rows['Distance']=stars_data_rows['Distance'].apply(lambda x: x.replace('$', '').replace(',', '')).astype('float')"
      ],
      "execution_count": 41,
      "outputs": []
    },
    {
      "cell_type": "code",
      "metadata": {
        "colab": {
          "base_uri": "https://localhost:8080/"
        },
        "id": "0oNVm2kJE5rc",
        "outputId": "b815c30c-4fad-4175-9396-6b0bc5ce7ca7"
      },
      "source": [
        "good_gravity_stars = []\n",
        "\n",
        "for i in stars_data_rows:\n",
        "  if float(i[2]) >= 100:\n",
        "    good_gravity_stars.append(i)\n",
        "\n",
        "len(good_gravity_stars)"
      ],
      "execution_count": 42,
      "outputs": [
        {
          "output_type": "execute_result",
          "data": {
            "text/plain": [
              "94"
            ]
          },
          "metadata": {},
          "execution_count": 42
        }
      ]
    },
    {
      "cell_type": "code",
      "metadata": {
        "id": "uO731HCuGAfQ"
      },
      "source": [
        "#csvreader['Distance']=csvreader['Distance'].apply(lambda x: x.replace('$', '').replace(',', '')).astype('float')"
      ],
      "execution_count": 43,
      "outputs": []
    },
    {
      "cell_type": "code",
      "metadata": {
        "colab": {
          "base_uri": "https://localhost:8080/"
        },
        "id": "pcxdbrfqE-c6",
        "outputId": "03f2b670-201a-4d13-9851-20978f772c0f"
      },
      "source": [
        "ideal_stars = []\n",
        "\n",
        "for i in good_gravity_stars:\n",
        "  if float(i[5]) < 1.5:\n",
        "    ideal_stars.append(i)\n",
        "\n",
        "len(ideal_stars)"
      ],
      "execution_count": 44,
      "outputs": [
        {
          "output_type": "execute_result",
          "data": {
            "text/plain": [
              "34"
            ]
          },
          "metadata": {},
          "execution_count": 44
        }
      ]
    },
    {
      "cell_type": "code",
      "metadata": {
        "colab": {
          "base_uri": "https://localhost:8080/"
        },
        "id": "BDgW_JzSFCqE",
        "outputId": "4b135409-e1f4-43b7-d41e-7f053cc57b27"
      },
      "source": [
        "temp = []\n",
        "\n",
        "for i in ideal_stars:\n",
        "  if float(i[5]) < 3.5:\n",
        "    temp.append(i)\n",
        "\n",
        "len(temp)"
      ],
      "execution_count": 45,
      "outputs": [
        {
          "output_type": "execute_result",
          "data": {
            "text/plain": [
              "34"
            ]
          },
          "metadata": {},
          "execution_count": 45
        }
      ]
    },
    {
      "cell_type": "code",
      "metadata": {
        "id": "v6jwCJu2FDlt"
      },
      "source": [
        "df = pd.DataFrame(ideal_stars)\n",
        "df.to_csv(\"data_for_PR_135.csv\")\n"
      ],
      "execution_count": 47,
      "outputs": []
    }
  ]
}